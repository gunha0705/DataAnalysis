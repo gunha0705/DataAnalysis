{
 "cells": [
  {
   "cell_type": "code",
   "execution_count": 1,
   "metadata": {},
   "outputs": [],
   "source": [
    "%matplotlib inline\n",
    "\n",
    "import numpy as np\n",
    "import pandas as pd\n",
    "\n",
    "import matplotlib.pyplot as plt\n",
    "\n",
    "from itertools import chain, combinations\n",
    "import statsmodels.api as sm\n",
    "\n",
    "pd.set_option('precision', 2)\n",
    "pd.set_option('display.max_rows', 12)\n",
    "pd.set_option('display.max_columns', 12)\n",
    "pd.set_option('display.float_format','{:20,.2f}'.format)\n",
    "\n",
    "plt.style.use('seaborn')"
   ]
  },
  {
   "cell_type": "code",
   "execution_count": 2,
   "metadata": {},
   "outputs": [],
   "source": [
    "hitters = pd.read_csv('../datasets/Hitters.csv', index_col=0).dropna()\n",
    "hitters.index.name = 'Player'\n",
    "\n",
    "hitters = hitters.iloc[:,[0,1,2,3,4,5,6,7,8,9,10,11,12,13,14,15,16,17,19,18]]\n",
    "hitters['League']=pd.get_dummies(hitters['League']).iloc[:,0]\n",
    "hitters['Division']=pd.get_dummies(hitters['Division']).iloc[:,0]\n",
    "hitters['NewLeague']=pd.get_dummies(hitters['NewLeague']).iloc[:,0]\n",
    "\n",
    "X = hitters.iloc[:,0:19]\n",
    "y = hitters.iloc[:,19]"
   ]
  },
  {
   "cell_type": "code",
   "execution_count": 3,
   "metadata": {},
   "outputs": [
    {
     "data": {
      "text/html": [
       "<div>\n",
       "<style scoped>\n",
       "    .dataframe tbody tr th:only-of-type {\n",
       "        vertical-align: middle;\n",
       "    }\n",
       "\n",
       "    .dataframe tbody tr th {\n",
       "        vertical-align: top;\n",
       "    }\n",
       "\n",
       "    .dataframe thead th {\n",
       "        text-align: right;\n",
       "    }\n",
       "</style>\n",
       "<table border=\"1\" class=\"dataframe\">\n",
       "  <thead>\n",
       "    <tr style=\"text-align: right;\">\n",
       "      <th></th>\n",
       "      <th>AtBat</th>\n",
       "      <th>Hits</th>\n",
       "      <th>HmRun</th>\n",
       "      <th>Runs</th>\n",
       "      <th>RBI</th>\n",
       "      <th>Walks</th>\n",
       "      <th>...</th>\n",
       "      <th>Division</th>\n",
       "      <th>PutOuts</th>\n",
       "      <th>Assists</th>\n",
       "      <th>Errors</th>\n",
       "      <th>NewLeague</th>\n",
       "      <th>Salary</th>\n",
       "    </tr>\n",
       "    <tr>\n",
       "      <th>Player</th>\n",
       "      <th></th>\n",
       "      <th></th>\n",
       "      <th></th>\n",
       "      <th></th>\n",
       "      <th></th>\n",
       "      <th></th>\n",
       "      <th></th>\n",
       "      <th></th>\n",
       "      <th></th>\n",
       "      <th></th>\n",
       "      <th></th>\n",
       "      <th></th>\n",
       "      <th></th>\n",
       "    </tr>\n",
       "  </thead>\n",
       "  <tbody>\n",
       "    <tr>\n",
       "      <th>-Alan Ashby</th>\n",
       "      <td>315</td>\n",
       "      <td>81</td>\n",
       "      <td>7</td>\n",
       "      <td>24</td>\n",
       "      <td>38</td>\n",
       "      <td>39</td>\n",
       "      <td>...</td>\n",
       "      <td>W</td>\n",
       "      <td>632</td>\n",
       "      <td>43</td>\n",
       "      <td>10</td>\n",
       "      <td>N</td>\n",
       "      <td>475.00</td>\n",
       "    </tr>\n",
       "    <tr>\n",
       "      <th>-Alvin Davis</th>\n",
       "      <td>479</td>\n",
       "      <td>130</td>\n",
       "      <td>18</td>\n",
       "      <td>66</td>\n",
       "      <td>72</td>\n",
       "      <td>76</td>\n",
       "      <td>...</td>\n",
       "      <td>W</td>\n",
       "      <td>880</td>\n",
       "      <td>82</td>\n",
       "      <td>14</td>\n",
       "      <td>A</td>\n",
       "      <td>480.00</td>\n",
       "    </tr>\n",
       "    <tr>\n",
       "      <th>-Andre Dawson</th>\n",
       "      <td>496</td>\n",
       "      <td>141</td>\n",
       "      <td>20</td>\n",
       "      <td>65</td>\n",
       "      <td>78</td>\n",
       "      <td>37</td>\n",
       "      <td>...</td>\n",
       "      <td>E</td>\n",
       "      <td>200</td>\n",
       "      <td>11</td>\n",
       "      <td>3</td>\n",
       "      <td>N</td>\n",
       "      <td>500.00</td>\n",
       "    </tr>\n",
       "    <tr>\n",
       "      <th>-Andres Galarraga</th>\n",
       "      <td>321</td>\n",
       "      <td>87</td>\n",
       "      <td>10</td>\n",
       "      <td>39</td>\n",
       "      <td>42</td>\n",
       "      <td>30</td>\n",
       "      <td>...</td>\n",
       "      <td>E</td>\n",
       "      <td>805</td>\n",
       "      <td>40</td>\n",
       "      <td>4</td>\n",
       "      <td>N</td>\n",
       "      <td>91.50</td>\n",
       "    </tr>\n",
       "    <tr>\n",
       "      <th>-Alfredo Griffin</th>\n",
       "      <td>594</td>\n",
       "      <td>169</td>\n",
       "      <td>4</td>\n",
       "      <td>74</td>\n",
       "      <td>51</td>\n",
       "      <td>35</td>\n",
       "      <td>...</td>\n",
       "      <td>W</td>\n",
       "      <td>282</td>\n",
       "      <td>421</td>\n",
       "      <td>25</td>\n",
       "      <td>A</td>\n",
       "      <td>750.00</td>\n",
       "    </tr>\n",
       "    <tr>\n",
       "      <th>...</th>\n",
       "      <td>...</td>\n",
       "      <td>...</td>\n",
       "      <td>...</td>\n",
       "      <td>...</td>\n",
       "      <td>...</td>\n",
       "      <td>...</td>\n",
       "      <td>...</td>\n",
       "      <td>...</td>\n",
       "      <td>...</td>\n",
       "      <td>...</td>\n",
       "      <td>...</td>\n",
       "      <td>...</td>\n",
       "      <td>...</td>\n",
       "    </tr>\n",
       "    <tr>\n",
       "      <th>-Willie McGee</th>\n",
       "      <td>497</td>\n",
       "      <td>127</td>\n",
       "      <td>7</td>\n",
       "      <td>65</td>\n",
       "      <td>48</td>\n",
       "      <td>37</td>\n",
       "      <td>...</td>\n",
       "      <td>E</td>\n",
       "      <td>325</td>\n",
       "      <td>9</td>\n",
       "      <td>3</td>\n",
       "      <td>N</td>\n",
       "      <td>700.00</td>\n",
       "    </tr>\n",
       "    <tr>\n",
       "      <th>-Willie Randolph</th>\n",
       "      <td>492</td>\n",
       "      <td>136</td>\n",
       "      <td>5</td>\n",
       "      <td>76</td>\n",
       "      <td>50</td>\n",
       "      <td>94</td>\n",
       "      <td>...</td>\n",
       "      <td>E</td>\n",
       "      <td>313</td>\n",
       "      <td>381</td>\n",
       "      <td>20</td>\n",
       "      <td>A</td>\n",
       "      <td>875.00</td>\n",
       "    </tr>\n",
       "    <tr>\n",
       "      <th>-Wayne Tolleson</th>\n",
       "      <td>475</td>\n",
       "      <td>126</td>\n",
       "      <td>3</td>\n",
       "      <td>61</td>\n",
       "      <td>43</td>\n",
       "      <td>52</td>\n",
       "      <td>...</td>\n",
       "      <td>W</td>\n",
       "      <td>37</td>\n",
       "      <td>113</td>\n",
       "      <td>7</td>\n",
       "      <td>A</td>\n",
       "      <td>385.00</td>\n",
       "    </tr>\n",
       "    <tr>\n",
       "      <th>-Willie Upshaw</th>\n",
       "      <td>573</td>\n",
       "      <td>144</td>\n",
       "      <td>9</td>\n",
       "      <td>85</td>\n",
       "      <td>60</td>\n",
       "      <td>78</td>\n",
       "      <td>...</td>\n",
       "      <td>E</td>\n",
       "      <td>1314</td>\n",
       "      <td>131</td>\n",
       "      <td>12</td>\n",
       "      <td>A</td>\n",
       "      <td>960.00</td>\n",
       "    </tr>\n",
       "    <tr>\n",
       "      <th>-Willie Wilson</th>\n",
       "      <td>631</td>\n",
       "      <td>170</td>\n",
       "      <td>9</td>\n",
       "      <td>77</td>\n",
       "      <td>44</td>\n",
       "      <td>31</td>\n",
       "      <td>...</td>\n",
       "      <td>W</td>\n",
       "      <td>408</td>\n",
       "      <td>4</td>\n",
       "      <td>3</td>\n",
       "      <td>A</td>\n",
       "      <td>1,000.00</td>\n",
       "    </tr>\n",
       "  </tbody>\n",
       "</table>\n",
       "<p>263 rows × 20 columns</p>\n",
       "</div>"
      ],
      "text/plain": [
       "                   AtBat  Hits  HmRun  Runs  RBI  Walks  ...  Division  \\\n",
       "Player                                                   ...             \n",
       "-Alan Ashby          315    81      7    24   38     39  ...         W   \n",
       "-Alvin Davis         479   130     18    66   72     76  ...         W   \n",
       "-Andre Dawson        496   141     20    65   78     37  ...         E   \n",
       "-Andres Galarraga    321    87     10    39   42     30  ...         E   \n",
       "-Alfredo Griffin     594   169      4    74   51     35  ...         W   \n",
       "...                  ...   ...    ...   ...  ...    ...  ...       ...   \n",
       "-Willie McGee        497   127      7    65   48     37  ...         E   \n",
       "-Willie Randolph     492   136      5    76   50     94  ...         E   \n",
       "-Wayne Tolleson      475   126      3    61   43     52  ...         W   \n",
       "-Willie Upshaw       573   144      9    85   60     78  ...         E   \n",
       "-Willie Wilson       631   170      9    77   44     31  ...         W   \n",
       "\n",
       "                   PutOuts  Assists  Errors  NewLeague               Salary  \n",
       "Player                                                                       \n",
       "-Alan Ashby            632       43      10          N               475.00  \n",
       "-Alvin Davis           880       82      14          A               480.00  \n",
       "-Andre Dawson          200       11       3          N               500.00  \n",
       "-Andres Galarraga      805       40       4          N                91.50  \n",
       "-Alfredo Griffin       282      421      25          A               750.00  \n",
       "...                    ...      ...     ...        ...                  ...  \n",
       "-Willie McGee          325        9       3          N               700.00  \n",
       "-Willie Randolph       313      381      20          A               875.00  \n",
       "-Wayne Tolleson         37      113       7          A               385.00  \n",
       "-Willie Upshaw        1314      131      12          A               960.00  \n",
       "-Willie Wilson         408        4       3          A             1,000.00  \n",
       "\n",
       "[263 rows x 20 columns]"
      ]
     },
     "execution_count": 3,
     "metadata": {},
     "output_type": "execute_result"
    }
   ],
   "source": [
    "hitters = pd.read_csv('../datasets/Hitters.csv', index_col=0).dropna()\n",
    "hitters.index.name = 'Player'\n",
    "\n",
    "hitters = hitters.iloc[:,[0,1,2,3,4,5,6,7,8,9,10,11,12,13,14,15,16,17,19,18]]\n",
    "hitters"
   ]
  },
  {
   "cell_type": "code",
   "execution_count": 4,
   "metadata": {
    "scrolled": false
   },
   "outputs": [
    {
     "data": {
      "text/html": [
       "<div>\n",
       "<style scoped>\n",
       "    .dataframe tbody tr th:only-of-type {\n",
       "        vertical-align: middle;\n",
       "    }\n",
       "\n",
       "    .dataframe tbody tr th {\n",
       "        vertical-align: top;\n",
       "    }\n",
       "\n",
       "    .dataframe thead th {\n",
       "        text-align: right;\n",
       "    }\n",
       "</style>\n",
       "<table border=\"1\" class=\"dataframe\">\n",
       "  <thead>\n",
       "    <tr style=\"text-align: right;\">\n",
       "      <th></th>\n",
       "      <th>A</th>\n",
       "      <th>N</th>\n",
       "    </tr>\n",
       "    <tr>\n",
       "      <th>Player</th>\n",
       "      <th></th>\n",
       "      <th></th>\n",
       "    </tr>\n",
       "  </thead>\n",
       "  <tbody>\n",
       "    <tr>\n",
       "      <th>-Alan Ashby</th>\n",
       "      <td>0</td>\n",
       "      <td>1</td>\n",
       "    </tr>\n",
       "    <tr>\n",
       "      <th>-Alvin Davis</th>\n",
       "      <td>1</td>\n",
       "      <td>0</td>\n",
       "    </tr>\n",
       "    <tr>\n",
       "      <th>-Andre Dawson</th>\n",
       "      <td>0</td>\n",
       "      <td>1</td>\n",
       "    </tr>\n",
       "    <tr>\n",
       "      <th>-Andres Galarraga</th>\n",
       "      <td>0</td>\n",
       "      <td>1</td>\n",
       "    </tr>\n",
       "    <tr>\n",
       "      <th>-Alfredo Griffin</th>\n",
       "      <td>1</td>\n",
       "      <td>0</td>\n",
       "    </tr>\n",
       "    <tr>\n",
       "      <th>...</th>\n",
       "      <td>...</td>\n",
       "      <td>...</td>\n",
       "    </tr>\n",
       "    <tr>\n",
       "      <th>-Willie McGee</th>\n",
       "      <td>0</td>\n",
       "      <td>1</td>\n",
       "    </tr>\n",
       "    <tr>\n",
       "      <th>-Willie Randolph</th>\n",
       "      <td>1</td>\n",
       "      <td>0</td>\n",
       "    </tr>\n",
       "    <tr>\n",
       "      <th>-Wayne Tolleson</th>\n",
       "      <td>1</td>\n",
       "      <td>0</td>\n",
       "    </tr>\n",
       "    <tr>\n",
       "      <th>-Willie Upshaw</th>\n",
       "      <td>1</td>\n",
       "      <td>0</td>\n",
       "    </tr>\n",
       "    <tr>\n",
       "      <th>-Willie Wilson</th>\n",
       "      <td>1</td>\n",
       "      <td>0</td>\n",
       "    </tr>\n",
       "  </tbody>\n",
       "</table>\n",
       "<p>263 rows × 2 columns</p>\n",
       "</div>"
      ],
      "text/plain": [
       "                   A  N\n",
       "Player                 \n",
       "-Alan Ashby        0  1\n",
       "-Alvin Davis       1  0\n",
       "-Andre Dawson      0  1\n",
       "-Andres Galarraga  0  1\n",
       "-Alfredo Griffin   1  0\n",
       "...               .. ..\n",
       "-Willie McGee      0  1\n",
       "-Willie Randolph   1  0\n",
       "-Wayne Tolleson    1  0\n",
       "-Willie Upshaw     1  0\n",
       "-Willie Wilson     1  0\n",
       "\n",
       "[263 rows x 2 columns]"
      ]
     },
     "execution_count": 4,
     "metadata": {},
     "output_type": "execute_result"
    }
   ],
   "source": [
    "pd.get_dummies(hitters['NewLeague'])"
   ]
  },
  {
   "cell_type": "code",
   "execution_count": null,
   "metadata": {},
   "outputs": [],
   "source": [
    "k_features = 1\n",
    "\n",
    "sub = []\n",
    "reg = []\n",
    "kft = []\n",
    "\n",
    "n_features = X.shape[1]\n",
    "\n",
    "for k_features in range(1,20):\n",
    "    subsets = chain(combinations(range(n_features), k_features))\n",
    "    \n",
    "    best_score = np.inf\n",
    "    \n",
    "    for subset in subsets:\n",
    "        lin_reg = sm.OLS(y, sm.add_constant(X.iloc[:,list(subset)])).fit()\n",
    "        score = lin_reg.ssr\n",
    "        if score < best_score:\n",
    "            best_score,best_subset = score, list(subset)\n",
    "            best_reg = lin_reg        \n",
    "\n",
    "    sub.append(best_subset)\n",
    "    reg.append(best_reg)\n",
    "    kft.append(k_features)\n",
    "    \n",
    "results = pd.DataFrame({'kft':kft, 'sub':sub, 'reg':reg},\n",
    "                      columns = ['sub','reg','kft']).set_index('kft')"
   ]
  },
  {
   "cell_type": "code",
   "execution_count": 5,
   "metadata": {
    "scrolled": false
   },
   "outputs": [],
   "source": [
    "results = pd.read_pickle('../datasets/results_651')"
   ]
  },
  {
   "cell_type": "code",
   "execution_count": 6,
   "metadata": {},
   "outputs": [
    {
     "data": {
      "image/png": "[encoded data removed]",
      "text/plain": [
       "<Figure size 1152x864 with 4 Axes>"
      ]
     },
     "metadata": {},
     "output_type": "display_data"
    }
   ],
   "source": [
    "plt.figure(figsize=(16,12))\n",
    "\n",
    "plt.subplot(2,2,1)\n",
    "results.rss.plot(title = 'RSS',lw=1, color='blue')\n",
    "\n",
    "plt.subplot(2,2,2)\n",
    "max_r2a = results.r2a.argmax()-1\n",
    "results.r2a.plot(title='Adj. $R^2$',markevery=[max_r2a],marker='D', lw=1, color='red')\n",
    "\n",
    "plt.subplot(2,2,3)\n",
    "min_aic = results.aic.argmin()-1\n",
    "results.aic.plot(title='AIC',markevery=[min_aic], marker='D', lw=1, color='green')\n",
    "\n",
    "plt.subplot(2,2,4)\n",
    "min_bic = results.bic.argmin()-1\n",
    "results.bic.plot(title='BIC',markevery=[min_bic], marker='D', lw=1, color='purple');"
   ]
  },
  {
   "cell_type": "code",
   "execution_count": 7,
   "metadata": {},
   "outputs": [],
   "source": [
    "def processSubset(feature_set):\n",
    "    model=sm.OLS(y,X[list(feature_set)])\n",
    "    regr=model.fit()\n",
    "    RSS=regr.ssr\n",
    "    return{'model':regr,'RSS':RSS}"
   ]
  },
  {
   "cell_type": "code",
   "execution_count": 8,
   "metadata": {},
   "outputs": [],
   "source": [
    "def forward(predictors):\n",
    "    remaining_predictors=[p for p in X.columns if p not in predictors]\n",
    "    \n",
    "    results = []\n",
    "    \n",
    "    for p in remaining_predictors:\n",
    "        results.append(processSubset(predictors+[p]))\n",
    "        \n",
    "    models = pd.DataFrame(results)\n",
    "        \n",
    "    best_model = models.loc[models['RSS'].argmin()]\n",
    "        \n",
    "    return best_model\n",
    "    \n",
    "def backward(predictors):\n",
    "    results = []\n",
    "    \n",
    "    for combo in combinations(predictors, len(predictors)-1):\n",
    "        results.append(processSubset(combo))\n",
    "        \n",
    "    models = pd.DataFrame(results)\n",
    "    \n",
    "    best_model = models.loc[models['RSS'].argmin()]\n",
    "    \n",
    "    return best_model"
   ]
  },
  {
   "cell_type": "code",
   "execution_count": 9,
   "metadata": {},
   "outputs": [
    {
     "data": {
      "text/plain": [
       "5"
      ]
     },
     "execution_count": 9,
     "metadata": {},
     "output_type": "execute_result"
    }
   ],
   "source": [
    "models2 = pd.DataFrame(columns=['RSS','model'])\n",
    "\n",
    "predictors = []\n",
    "\n",
    "for i in range(1,len(X.columns)+1):\n",
    "    models2.loc[i] = forward(predictors)\n",
    "    predictors = models2.loc[i]['model'].model.exog_names\n",
    "    \n",
    "bic_f = []\n",
    "\n",
    "for m in models2.model:\n",
    "    bic_f.append(m.bic)\n",
    "    \n",
    "np.array(bic_f).argmin()"
   ]
  },
  {
   "cell_type": "code",
   "execution_count": 10,
   "metadata": {},
   "outputs": [
    {
     "data": {
      "text/plain": [
       "(['Hits',\n",
       "  'CRBI',\n",
       "  'PutOuts',\n",
       "  'AtBat',\n",
       "  'Division',\n",
       "  'Walks',\n",
       "  'CWalks',\n",
       "  'CRuns',\n",
       "  'CAtBat',\n",
       "  'Assists',\n",
       "  'Runs',\n",
       "  'League',\n",
       "  'HmRun',\n",
       "  'Errors',\n",
       "  'NewLeague',\n",
       "  'RBI',\n",
       "  'CHits',\n",
       "  'Years',\n",
       "  'CHmRun'],\n",
       " [3910.437405792022,\n",
       "  3826.372838539718,\n",
       "  3820.626997734044,\n",
       "  3815.4605878697303,\n",
       "  3810.7331322124824,\n",
       "  3806.8883425646886,\n",
       "  3809.8597898274984,\n",
       "  3807.1870192596657,\n",
       "  3809.3387521975437,\n",
       "  3811.923580691154,\n",
       "  3816.571399569775,\n",
       "  3821.5191822804245,\n",
       "  3826.8028102714034,\n",
       "  3832.1077814957293,\n",
       "  3837.456294954363,\n",
       "  3842.8214798303275,\n",
       "  3848.2258352295075,\n",
       "  3853.720486189592,\n",
       "  3859.2816820271046])"
      ]
     },
     "execution_count": 10,
     "metadata": {},
     "output_type": "execute_result"
    }
   ],
   "source": [
    "predictors, bic_f"
   ]
  },
  {
   "cell_type": "code",
   "execution_count": 11,
   "metadata": {},
   "outputs": [
    {
     "data": {
      "text/plain": [
       "7"
      ]
     },
     "execution_count": 11,
     "metadata": {},
     "output_type": "execute_result"
    }
   ],
   "source": [
    "models3 = pd.DataFrame(columns=['RSS','model'],index = range(1,len(X.columns)))\n",
    "\n",
    "predictors = X.columns\n",
    "\n",
    "while(len(predictors)>1):\n",
    "    models3.loc[len(predictors)-1]=backward(predictors)\n",
    "    predictors = models3.loc[len(predictors)-1]['model'].model.exog_names\n",
    "    \n",
    "bic_b = []\n",
    "\n",
    "for m in models3.model:\n",
    "    bic_b.append(m.bic)\n",
    "    \n",
    "np.array(bic_b).argmin()"
   ]
  },
  {
   "cell_type": "code",
   "execution_count": 12,
   "metadata": {},
   "outputs": [],
   "source": [
    "from sklearn.model_selection import train_test_split\n",
    "from sklearn.metrics import mean_squared_error\n",
    "\n",
    "X_train, X_test, y_train, y_test = train_test_split(X,y,test_size=0.5, random_state=3)"
   ]
  },
  {
   "cell_type": "code",
   "execution_count": 13,
   "metadata": {},
   "outputs": [],
   "source": [
    "def processSubset(feature_set,X_train,y_train,X_test,y_test):\n",
    "    model = sm.OLS(y_train,X_train[list(feature_set)])\n",
    "    regr=model.fit()\n",
    "    RSS=((regr.predict(X_test[list(feature_set)])-y_test)** 2).sum()\n",
    "    return {'model':regr,'RSS':RSS}"
   ]
  },
  {
   "cell_type": "code",
   "execution_count": 14,
   "metadata": {},
   "outputs": [],
   "source": [
    "def forward(predictors,X_train,y_train,X_test,y_test):\n",
    "    \n",
    "    remaining_predictors = [p for p in X_train.columns if p not in predictors]\n",
    "    \n",
    "    results = []\n",
    "    \n",
    "    for p in remaining_predictors:\n",
    "        results.append(processSubset(predictors+[p],X_train,y_train,X_test,y_test))\n",
    "        \n",
    "    models = pd.DataFrame(results)\n",
    "    \n",
    "    best_model = models.loc[models['RSS'].argmin()]\n",
    "    \n",
    "    return best_model"
   ]
  },
  {
   "cell_type": "code",
   "execution_count": 15,
   "metadata": {},
   "outputs": [],
   "source": [
    "models_train = pd.DataFrame(columns=['RSS','model'])\n",
    "\n",
    "predictors = []\n",
    "\n",
    "for i in range(1,len(X.columns)+1):\n",
    "    models_train.loc[i] = forward(predictors,X_train,y_train,X_test,y_test)\n",
    "    predictors = models_train.loc[i]['model'].model.exog_names"
   ]
  },
  {
   "cell_type": "code",
   "execution_count": 16,
   "metadata": {},
   "outputs": [
    {
     "data": {
      "image/png": "[encoded data removed]",
      "text/plain": [
       "<Figure size 576x396 with 1 Axes>"
      ]
     },
     "metadata": {},
     "output_type": "display_data"
    }
   ],
   "source": [
    "plt.plot(models_train['RSS'])\n",
    "plt.xlabel('# Predictors')\n",
    "plt.ylabel('RSS')\n",
    "plt.plot(models_train['RSS'].argmin(),models_train['RSS'].min(),'or');"
   ]
  },
  {
   "cell_type": "code",
   "execution_count": 17,
   "metadata": {},
   "outputs": [],
   "source": [
    "from sklearn.linear_model import Ridge, RidgeCV, Lasso, LassoCV\n",
    "from sklearn.preprocessing import scale\n",
    "\n",
    "grid = 10 ** np.linspace(3,-2,100)\n",
    "\n",
    "ridge_model = Ridge(normalize=True)\n",
    "coefs = []\n",
    "\n",
    "for a in grid:\n",
    "    ridge_model.set_params(alpha=a)\n",
    "    ridge_model.fit(X,y)\n",
    "    coefs.append(ridge_model.coef_)"
   ]
  },
  {
   "cell_type": "code",
   "execution_count": 18,
   "metadata": {},
   "outputs": [
    {
     "data": {
      "text/plain": [
       "3.351602650938841"
      ]
     },
     "execution_count": 18,
     "metadata": {},
     "output_type": "execute_result"
    }
   ],
   "source": [
    "grid[49]"
   ]
  },
  {
   "cell_type": "code",
   "execution_count": 19,
   "metadata": {},
   "outputs": [
    {
     "data": {
      "text/plain": [
       "AtBat                       0.11\n",
       "Hits                        0.49\n",
       "HmRun                       1.32\n",
       "Runs                        0.76\n",
       "RBI                         0.73\n",
       "                    ...         \n",
       "Division                   33.63\n",
       "PutOuts                     0.08\n",
       "Assists                     0.01\n",
       "Errors                     -0.30\n",
       "NewLeague                  -5.36\n",
       "Length: 19, dtype: float64"
      ]
     },
     "execution_count": 19,
     "metadata": {},
     "output_type": "execute_result"
    }
   ],
   "source": [
    "pd.Series(coefs[49], index=X.columns)"
   ]
  },
  {
   "cell_type": "code",
   "execution_count": 20,
   "metadata": {},
   "outputs": [
    {
     "data": {
      "image/png": "[encoded data removed]",
      "text/plain": [
       "<Figure size 576x396 with 1 Axes>"
      ]
     },
     "metadata": {},
     "output_type": "display_data"
    }
   ],
   "source": [
    "ax = plt.gca()\n",
    "ax.plot(grid, coefs)\n",
    "ax.set_xscale('log')\n",
    "\n",
    "plt.axis('tight')\n",
    "plt.xlabel('alpha')\n",
    "plt.ylabel('weights');"
   ]
  },
  {
   "cell_type": "code",
   "execution_count": 21,
   "metadata": {},
   "outputs": [],
   "source": [
    "from sklearn.model_selection import train_test_split\n",
    "from sklearn.metrics import mean_squared_error\n",
    "\n",
    "X_train, X_test, y_train, y_test = train_test_split(X, y, test_size=0.5, random_state=1)"
   ]
  },
  {
   "cell_type": "code",
   "execution_count": 22,
   "metadata": {},
   "outputs": [
    {
     "name": "stdout",
     "output_type": "stream",
     "text": [
      "AtBat                       0.10\n",
      "Hits                        0.45\n",
      "HmRun                       1.41\n",
      "Runs                        0.66\n",
      "RBI                         0.84\n",
      "                    ...         \n",
      "Division                   30.77\n",
      "PutOuts                     0.10\n",
      "Assists                    -0.00\n",
      "Errors                      0.27\n",
      "NewLeague                  -4.12\n",
      "Length: 19, dtype: float64\n",
      "MSE: 106216.52238005563\n"
     ]
    }
   ],
   "source": [
    "ridge2= Ridge(alpha=4, normalize=True)\n",
    "ridge2_fit = ridge2.fit(X_train, y_train)\n",
    "y_pred2 = ridge2.predict(X_test)\n",
    "\n",
    "print(pd.Series(ridge2_fit.coef_, index=X.columns))\n",
    "print('MSE:',mean_squared_error(y_test, y_pred2))"
   ]
  },
  {
   "cell_type": "code",
   "execution_count": 23,
   "metadata": {},
   "outputs": [
    {
     "name": "stdout",
     "output_type": "stream",
     "text": [
      "AtBat                       0.00\n",
      "Hits                        0.00\n",
      "HmRun                       0.00\n",
      "Runs                        0.00\n",
      "RBI                         0.00\n",
      "                    ...         \n",
      "Division                    0.00\n",
      "PutOuts                     0.00\n",
      "Assists                    -0.00\n",
      "Errors                      0.00\n",
      "NewLeague                   0.00\n",
      "Length: 19, dtype: float64\n",
      "MSE: 172862.23580379886\n"
     ]
    }
   ],
   "source": [
    "ridge3= Ridge(alpha=1e10, normalize=True)\n",
    "ridge3_fit = ridge3.fit(X_train, y_train)\n",
    "y_pred3 = ridge3.predict(X_test)\n",
    "\n",
    "print(pd.Series(ridge3_fit.coef_, index=X.columns))\n",
    "print('MSE:',mean_squared_error(y_test, y_pred3))"
   ]
  },
  {
   "cell_type": "code",
   "execution_count": 24,
   "metadata": {},
   "outputs": [
    {
     "name": "stdout",
     "output_type": "stream",
     "text": [
      "AtBat                      -1.82\n",
      "Hits                        4.26\n",
      "HmRun                      -4.77\n",
      "Runs                       -0.04\n",
      "RBI                         3.98\n",
      "                    ...         \n",
      "Division                  113.74\n",
      "PutOuts                     0.42\n",
      "Assists                     0.46\n",
      "Errors                     -6.02\n",
      "NewLeague                  81.93\n",
      "Length: 19, dtype: float64\n",
      "MSE: 116690.46856660566\n"
     ]
    }
   ],
   "source": [
    "ridge4= Ridge(alpha=0, normalize=True)\n",
    "ridge4_fit = ridge4.fit(X_train, y_train)\n",
    "y_pred4 = ridge4.predict(X_test)\n",
    "\n",
    "print(pd.Series(ridge4_fit.coef_, index=X.columns))\n",
    "print('MSE:',mean_squared_error(y_test, y_pred4))"
   ]
  },
  {
   "cell_type": "code",
   "execution_count": 25,
   "metadata": {},
   "outputs": [
    {
     "data": {
      "text/plain": [
       "0.5857020818056667"
      ]
     },
     "execution_count": 25,
     "metadata": {},
     "output_type": "execute_result"
    }
   ],
   "source": [
    "ridge_cv = RidgeCV(alphas=grid, normalize=True, scoring='neg_mean_squared_error')\n",
    "ridge_cv.fit(X_train, y_train)\n",
    "ridge_cv.alpha_"
   ]
  },
  {
   "cell_type": "code",
   "execution_count": 26,
   "metadata": {},
   "outputs": [
    {
     "name": "stdout",
     "output_type": "stream",
     "text": [
      "AtBat                      -0.01\n",
      "Hits                        0.86\n",
      "HmRun                      -0.26\n",
      "Runs                        0.72\n",
      "RBI                         1.31\n",
      "                    ...         \n",
      "Division                   91.61\n",
      "PutOuts                     0.28\n",
      "Assists                    -0.02\n",
      "Errors                     -0.30\n",
      "NewLeague                  -9.99\n",
      "Length: 19, dtype: float64\n",
      "MSE: 99805.36301929558\n"
     ]
    }
   ],
   "source": [
    "ridge5= Ridge(alpha=ridge_cv.alpha_, normalize=True)\n",
    "ridge5_fit = ridge5.fit(X_train, y_train)\n",
    "y_pred5 = ridge5.predict(X_test)\n",
    "\n",
    "print(pd.Series(ridge5_fit.coef_, index=X.columns))\n",
    "print('MSE:',mean_squared_error(y_test, y_pred5))"
   ]
  },
  {
   "cell_type": "code",
   "execution_count": 27,
   "metadata": {},
   "outputs": [],
   "source": [
    "from sklearn.preprocessing import scale\n",
    "grid = 10 ** np.linspace(3,-2,100)\n",
    "lasso_model = Lasso(normalize=True, max_iter=10000)\n",
    "coefs = []\n",
    "\n",
    "for a in grid:\n",
    "    lasso_model.set_params(alpha=a)\n",
    "    lasso_model.fit(scale(X_train),y_train)\n",
    "    coefs.append(lasso_model.coef_)"
   ]
  },
  {
   "cell_type": "code",
   "execution_count": 28,
   "metadata": {},
   "outputs": [
    {
     "data": {
      "image/png": "[encoded data removed]",
      "text/plain": [
       "<Figure size 576x396 with 1 Axes>"
      ]
     },
     "metadata": {},
     "output_type": "display_data"
    }
   ],
   "source": [
    "ax = plt.gca()\n",
    "ax.plot(grid, coefs)\n",
    "ax.set_xscale('log')\n",
    "\n",
    "plt.axis('tight')\n",
    "plt.xlabel('alpha')\n",
    "plt.ylabel('weights');"
   ]
  },
  {
   "cell_type": "code",
   "execution_count": 29,
   "metadata": {},
   "outputs": [
    {
     "data": {
      "text/plain": [
       "2.364489412645407"
      ]
     },
     "execution_count": 29,
     "metadata": {},
     "output_type": "execute_result"
    }
   ],
   "source": [
    "lasso_cv = LassoCV(alphas=grid, max_iter=100000, normalize=True, cv=10)\n",
    "lasso_cv.fit(X_train, y_train)\n",
    "lasso_cv.alpha_"
   ]
  },
  {
   "cell_type": "code",
   "execution_count": 30,
   "metadata": {},
   "outputs": [
    {
     "name": "stdout",
     "output_type": "stream",
     "text": [
      "AtBat                       0.00\n",
      "Hits                        1.09\n",
      "HmRun                       0.00\n",
      "Runs                        0.00\n",
      "RBI                         0.00\n",
      "                    ...         \n",
      "Division                   89.91\n",
      "PutOuts                     0.37\n",
      "Assists                    -0.00\n",
      "Errors                     -0.00\n",
      "NewLeague                  -0.00\n",
      "Length: 19, dtype: float64\n",
      "MSE: 104933.75326714719\n"
     ]
    }
   ],
   "source": [
    "lasso2= Lasso(alpha=lasso_cv.alpha_, normalize=True, max_iter=10000)\n",
    "lasso2_fit = lasso2.fit(X_train, y_train)\n",
    "y_pred2 = lasso2.predict(X_test)\n",
    "\n",
    "print(pd.Series(lasso2_fit.coef_, index=X.columns))\n",
    "print('MSE:',mean_squared_error(y_test, y_pred2))"
   ]
  },
  {
   "cell_type": "code",
   "execution_count": 31,
   "metadata": {},
   "outputs": [],
   "source": [
    "from sklearn.preprocessing import scale\n",
    "from sklearn.model_selection import train_test_split, KFold, cross_val_score\n",
    "from sklearn.decomposition import PCA\n",
    "from sklearn.linear_model import LinearRegression\n",
    "from sklearn.cross_decomposition import PLSRegression, PLSSVD\n",
    "from sklearn.metrics import mean_squared_error"
   ]
  },
  {
   "cell_type": "code",
   "execution_count": 32,
   "metadata": {},
   "outputs": [
    {
     "data": {
      "text/html": [
       "<div>\n",
       "<style scoped>\n",
       "    .dataframe tbody tr th:only-of-type {\n",
       "        vertical-align: middle;\n",
       "    }\n",
       "\n",
       "    .dataframe tbody tr th {\n",
       "        vertical-align: top;\n",
       "    }\n",
       "\n",
       "    .dataframe thead th {\n",
       "        text-align: right;\n",
       "    }\n",
       "</style>\n",
       "<table border=\"1\" class=\"dataframe\">\n",
       "  <thead>\n",
       "    <tr style=\"text-align: right;\">\n",
       "      <th></th>\n",
       "      <th>0</th>\n",
       "      <th>1</th>\n",
       "      <th>2</th>\n",
       "      <th>3</th>\n",
       "      <th>4</th>\n",
       "      <th>5</th>\n",
       "      <th>...</th>\n",
       "      <th>13</th>\n",
       "      <th>14</th>\n",
       "      <th>15</th>\n",
       "      <th>16</th>\n",
       "      <th>17</th>\n",
       "      <th>18</th>\n",
       "    </tr>\n",
       "  </thead>\n",
       "  <tbody>\n",
       "    <tr>\n",
       "      <th>0</th>\n",
       "      <td>-0.01</td>\n",
       "      <td>1.87</td>\n",
       "      <td>1.27</td>\n",
       "      <td>-0.94</td>\n",
       "      <td>1.11</td>\n",
       "      <td>1.21</td>\n",
       "      <td>...</td>\n",
       "      <td>0.39</td>\n",
       "      <td>0.06</td>\n",
       "      <td>0.14</td>\n",
       "      <td>0.08</td>\n",
       "      <td>0.04</td>\n",
       "      <td>-0.02</td>\n",
       "    </tr>\n",
       "    <tr>\n",
       "      <th>1</th>\n",
       "      <td>0.41</td>\n",
       "      <td>-2.43</td>\n",
       "      <td>-0.91</td>\n",
       "      <td>-0.26</td>\n",
       "      <td>1.23</td>\n",
       "      <td>1.83</td>\n",
       "      <td>...</td>\n",
       "      <td>-0.02</td>\n",
       "      <td>0.07</td>\n",
       "      <td>0.16</td>\n",
       "      <td>0.04</td>\n",
       "      <td>0.01</td>\n",
       "      <td>-0.00</td>\n",
       "    </tr>\n",
       "    <tr>\n",
       "      <th>2</th>\n",
       "      <td>3.47</td>\n",
       "      <td>0.83</td>\n",
       "      <td>0.56</td>\n",
       "      <td>-1.62</td>\n",
       "      <td>-0.86</td>\n",
       "      <td>-1.03</td>\n",
       "      <td>...</td>\n",
       "      <td>-0.38</td>\n",
       "      <td>0.23</td>\n",
       "      <td>0.01</td>\n",
       "      <td>-0.22</td>\n",
       "      <td>0.04</td>\n",
       "      <td>-0.07</td>\n",
       "    </tr>\n",
       "    <tr>\n",
       "      <th>3</th>\n",
       "      <td>-2.56</td>\n",
       "      <td>-0.23</td>\n",
       "      <td>0.52</td>\n",
       "      <td>-2.18</td>\n",
       "      <td>-0.82</td>\n",
       "      <td>1.49</td>\n",
       "      <td>...</td>\n",
       "      <td>0.03</td>\n",
       "      <td>0.04</td>\n",
       "      <td>0.05</td>\n",
       "      <td>-0.04</td>\n",
       "      <td>0.01</td>\n",
       "      <td>-0.01</td>\n",
       "    </tr>\n",
       "    <tr>\n",
       "      <th>4</th>\n",
       "      <td>1.03</td>\n",
       "      <td>-1.57</td>\n",
       "      <td>1.33</td>\n",
       "      <td>3.49</td>\n",
       "      <td>0.98</td>\n",
       "      <td>0.51</td>\n",
       "      <td>...</td>\n",
       "      <td>-0.09</td>\n",
       "      <td>0.04</td>\n",
       "      <td>0.01</td>\n",
       "      <td>-0.05</td>\n",
       "      <td>0.13</td>\n",
       "      <td>-0.07</td>\n",
       "    </tr>\n",
       "    <tr>\n",
       "      <th>...</th>\n",
       "      <td>...</td>\n",
       "      <td>...</td>\n",
       "      <td>...</td>\n",
       "      <td>...</td>\n",
       "      <td>...</td>\n",
       "      <td>...</td>\n",
       "      <td>...</td>\n",
       "      <td>...</td>\n",
       "      <td>...</td>\n",
       "      <td>...</td>\n",
       "      <td>...</td>\n",
       "      <td>...</td>\n",
       "      <td>...</td>\n",
       "    </tr>\n",
       "    <tr>\n",
       "      <th>258</th>\n",
       "      <td>-0.33</td>\n",
       "      <td>-0.17</td>\n",
       "      <td>0.78</td>\n",
       "      <td>-1.54</td>\n",
       "      <td>-1.04</td>\n",
       "      <td>-0.31</td>\n",
       "      <td>...</td>\n",
       "      <td>-0.16</td>\n",
       "      <td>0.23</td>\n",
       "      <td>-0.22</td>\n",
       "      <td>0.13</td>\n",
       "      <td>-0.06</td>\n",
       "      <td>-0.01</td>\n",
       "    </tr>\n",
       "    <tr>\n",
       "      <th>259</th>\n",
       "      <td>3.25</td>\n",
       "      <td>-0.54</td>\n",
       "      <td>1.21</td>\n",
       "      <td>2.75</td>\n",
       "      <td>-1.20</td>\n",
       "      <td>0.83</td>\n",
       "      <td>...</td>\n",
       "      <td>0.32</td>\n",
       "      <td>-0.14</td>\n",
       "      <td>0.01</td>\n",
       "      <td>-0.15</td>\n",
       "      <td>-0.05</td>\n",
       "      <td>-0.06</td>\n",
       "    </tr>\n",
       "    <tr>\n",
       "      <th>260</th>\n",
       "      <td>-1.09</td>\n",
       "      <td>-0.75</td>\n",
       "      <td>-0.94</td>\n",
       "      <td>1.07</td>\n",
       "      <td>0.71</td>\n",
       "      <td>-0.64</td>\n",
       "      <td>...</td>\n",
       "      <td>0.09</td>\n",
       "      <td>0.06</td>\n",
       "      <td>-0.10</td>\n",
       "      <td>-0.08</td>\n",
       "      <td>0.07</td>\n",
       "      <td>0.01</td>\n",
       "    </tr>\n",
       "    <tr>\n",
       "      <th>261</th>\n",
       "      <td>1.98</td>\n",
       "      <td>-2.18</td>\n",
       "      <td>-0.28</td>\n",
       "      <td>-0.22</td>\n",
       "      <td>-0.69</td>\n",
       "      <td>3.51</td>\n",
       "      <td>...</td>\n",
       "      <td>-0.23</td>\n",
       "      <td>0.02</td>\n",
       "      <td>-0.26</td>\n",
       "      <td>-0.01</td>\n",
       "      <td>0.02</td>\n",
       "      <td>-0.01</td>\n",
       "    </tr>\n",
       "    <tr>\n",
       "      <th>262</th>\n",
       "      <td>1.83</td>\n",
       "      <td>-0.30</td>\n",
       "      <td>-1.06</td>\n",
       "      <td>0.49</td>\n",
       "      <td>0.92</td>\n",
       "      <td>0.28</td>\n",
       "      <td>...</td>\n",
       "      <td>0.02</td>\n",
       "      <td>0.66</td>\n",
       "      <td>-0.19</td>\n",
       "      <td>-0.30</td>\n",
       "      <td>-0.08</td>\n",
       "      <td>-0.04</td>\n",
       "    </tr>\n",
       "  </tbody>\n",
       "</table>\n",
       "<p>263 rows × 19 columns</p>\n",
       "</div>"
      ],
      "text/plain": [
       "                      0                    1                    2   \\\n",
       "0                  -0.01                 1.87                 1.27   \n",
       "1                   0.41                -2.43                -0.91   \n",
       "2                   3.47                 0.83                 0.56   \n",
       "3                  -2.56                -0.23                 0.52   \n",
       "4                   1.03                -1.57                 1.33   \n",
       "..                   ...                  ...                  ...   \n",
       "258                -0.33                -0.17                 0.78   \n",
       "259                 3.25                -0.54                 1.21   \n",
       "260                -1.09                -0.75                -0.94   \n",
       "261                 1.98                -2.18                -0.28   \n",
       "262                 1.83                -0.30                -1.06   \n",
       "\n",
       "                      3                    4                    5   ...  \\\n",
       "0                  -0.94                 1.11                 1.21  ...   \n",
       "1                  -0.26                 1.23                 1.83  ...   \n",
       "2                  -1.62                -0.86                -1.03  ...   \n",
       "3                  -2.18                -0.82                 1.49  ...   \n",
       "4                   3.49                 0.98                 0.51  ...   \n",
       "..                   ...                  ...                  ...  ...   \n",
       "258                -1.54                -1.04                -0.31  ...   \n",
       "259                 2.75                -1.20                 0.83  ...   \n",
       "260                 1.07                 0.71                -0.64  ...   \n",
       "261                -0.22                -0.69                 3.51  ...   \n",
       "262                 0.49                 0.92                 0.28  ...   \n",
       "\n",
       "                      13                   14                   15  \\\n",
       "0                   0.39                 0.06                 0.14   \n",
       "1                  -0.02                 0.07                 0.16   \n",
       "2                  -0.38                 0.23                 0.01   \n",
       "3                   0.03                 0.04                 0.05   \n",
       "4                  -0.09                 0.04                 0.01   \n",
       "..                   ...                  ...                  ...   \n",
       "258                -0.16                 0.23                -0.22   \n",
       "259                 0.32                -0.14                 0.01   \n",
       "260                 0.09                 0.06                -0.10   \n",
       "261                -0.23                 0.02                -0.26   \n",
       "262                 0.02                 0.66                -0.19   \n",
       "\n",
       "                      16                   17                   18  \n",
       "0                   0.08                 0.04                -0.02  \n",
       "1                   0.04                 0.01                -0.00  \n",
       "2                  -0.22                 0.04                -0.07  \n",
       "3                  -0.04                 0.01                -0.01  \n",
       "4                  -0.05                 0.13                -0.07  \n",
       "..                   ...                  ...                  ...  \n",
       "258                 0.13                -0.06                -0.01  \n",
       "259                -0.15                -0.05                -0.06  \n",
       "260                -0.08                 0.07                 0.01  \n",
       "261                -0.01                 0.02                -0.01  \n",
       "262                -0.30                -0.08                -0.04  \n",
       "\n",
       "[263 rows x 19 columns]"
      ]
     },
     "execution_count": 32,
     "metadata": {},
     "output_type": "execute_result"
    }
   ],
   "source": [
    "pca = PCA()\n",
    "X_pca=pca.fit_transform(scale(X))\n",
    "pd.DataFrame(X_pca)"
   ]
  },
  {
   "cell_type": "code",
   "execution_count": 33,
   "metadata": {},
   "outputs": [
    {
     "data": {
      "image/png": "[encoded data removed]",
      "text/plain": [
       "<Figure size 576x396 with 1 Axes>"
      ]
     },
     "metadata": {},
     "output_type": "display_data"
    }
   ],
   "source": [
    "n=len(X_pca)\n",
    "k10 = KFold(n_splits=10,shuffle=True, random_state=42)\n",
    "\n",
    "lin_reg = LinearRegression()\n",
    "rmse = []\n",
    "\n",
    "score = -1*cross_val_score(lin_reg,np.ones((n,1)),y,cv=k10, scoring='neg_mean_squared_error').mean()\n",
    "rmse.append(np.sqrt(score))\n",
    "\n",
    "for i in np.arange(1,20):\n",
    "    score = -1*cross_val_score(lin_reg,X_pca[:,:1],y,cv=k10, scoring='neg_mean_squared_error').mean()\n",
    "    rmse.append(np.sqrt(score))\n",
    "    \n",
    "min_rmse = np.array(rmse).argmin()\n",
    "\n",
    "plt.plot(rmse,'-D')\n",
    "plt.plot(rmse,markevery=[min_rmse],marker='X',lw=0,color='red')\n",
    "plt.xlabel('# of PC')\n",
    "plt.ylabel('RMSE');"
   ]
  },
  {
   "cell_type": "code",
   "execution_count": 34,
   "metadata": {},
   "outputs": [
    {
     "data": {
      "image/png": "[encoded data removed]",
      "text/plain": [
       "<Figure size 576x396 with 1 Axes>"
      ]
     },
     "metadata": {},
     "output_type": "display_data"
    }
   ],
   "source": [
    "n=len(X_train)\n",
    "k10 = KFold(n_splits=10,shuffle=True, random_state=1)\n",
    "\n",
    "rmse = []\n",
    "\n",
    "for i in np.arange(1,20):\n",
    "    pls = PLSRegression(n_components=i)\n",
    "    score = -1*cross_val_score(pls,scale(X_train),y_train,cv=k10, scoring='neg_mean_squared_error').mean()\n",
    "    rmse.append(np.sqrt(score))\n",
    "    \n",
    "min_rmse = np.array(rmse).argmin()\n",
    "\n",
    "plt.plot(rmse,'-D')\n",
    "plt.plot(rmse,markevery=[min_rmse],marker='X',lw=0,color='red')\n",
    "plt.xlabel('# of PC')\n",
    "plt.ylabel('RMSE')\n",
    "plt.xticks([0,5,10,15,20]);"
   ]
  },
  {
   "cell_type": "code",
   "execution_count": 35,
   "metadata": {},
   "outputs": [
    {
     "data": {
      "text/plain": [
       "104838.51042760801"
      ]
     },
     "execution_count": 35,
     "metadata": {},
     "output_type": "execute_result"
    }
   ],
   "source": [
    "pls = PLSRegression(n_components=2)\n",
    "pls.fit(scale(X_train),y_train)\n",
    "\n",
    "mean_squared_error(y_test,pls.predict(scale(X_test)))"
   ]
  }
 ],
 "metadata": {
  "kernelspec": {
   "display_name": "Python 3",
   "language": "python",
   "name": "python3"
  },
  "language_info": {
   "codemirror_mode": {
    "name": "ipython",
    "version": 3
   },
   "file_extension": ".py",
   "mimetype": "text/x-python",
   "name": "python",
   "nbconvert_exporter": "python",
   "pygments_lexer": "ipython3",
   "version": "3.8.5"
  }
 },
 "nbformat": 4,
 "nbformat_minor": 4
}
